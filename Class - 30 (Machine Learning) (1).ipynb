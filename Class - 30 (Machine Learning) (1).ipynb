{
 "cells": [
  {
   "cell_type": "markdown",
   "id": "3ab13803",
   "metadata": {},
   "source": [
    "# Machine Learning"
   ]
  },
  {
   "cell_type": "raw",
   "id": "335eba3f",
   "metadata": {},
   "source": [
    "There are two types of machine learning.\n",
    "\n",
    "1. supervised learning - all data which we are receiving y lebal /target /output (the child is learn under the supervision )\n",
    "\n",
    "2.unsupervised learning - there is no supervised and no y output only x input is there (there is only child there is no supervision , like class without teacher)"
   ]
  },
  {
   "cell_type": "raw",
   "id": "1671a39f",
   "metadata": {},
   "source": [
    "there are two sub category of supervised learning\n",
    "\n",
    "1. Regression - when ever my y will be having continous output (like - 5.2,6.2,4.2)\n",
    "\n",
    "2. Classification - "
   ]
  },
  {
   "cell_type": "raw",
   "id": "d69596ca",
   "metadata": {},
   "source": [
    "Regression is also devided into two part\n",
    "\n",
    "1. linear Regression - that my y output will be always in continous output (in decimal(float) value) example -to pridict Elecity bill, doctor bill, house bill\n",
    "\n",
    "2. logistic Regression - \n",
    "\n",
    "x (input) is indepandent\n",
    "y (output) is depandent"
   ]
  },
  {
   "cell_type": "markdown",
   "id": "a4cd9aa6",
   "metadata": {},
   "source": [
    "# Linear Regression"
   ]
  },
  {
   "cell_type": "raw",
   "id": "30993194",
   "metadata": {},
   "source": [
    "# equation of linear regression\n",
    "\n",
    "y=a+bx \n",
    "# x=(input data)\n",
    "# y=(output data)\n",
    "# b=cofficent\n",
    "# intercept\n",
    "             \n",
    "y=a+bx+e\n",
    "\n",
    "# e=error (equation of error)MSE, y=sum(y(actual data)+ y(predict data))"
   ]
  },
  {
   "cell_type": "raw",
   "id": "8ff62d78",
   "metadata": {},
   "source": [
    "# parameter estimation solution"
   ]
  },
  {
   "cell_type": "raw",
   "id": "ce856f73",
   "metadata": {},
   "source": [
    "scikit-learn libiry in anaconda"
   ]
  },
  {
   "cell_type": "code",
   "execution_count": null,
   "id": "fb4a337d",
   "metadata": {},
   "outputs": [],
   "source": []
  }
 ],
 "metadata": {
  "kernelspec": {
   "display_name": "Python 3 (ipykernel)",
   "language": "python",
   "name": "python3"
  },
  "language_info": {
   "codemirror_mode": {
    "name": "ipython",
    "version": 3
   },
   "file_extension": ".py",
   "mimetype": "text/x-python",
   "name": "python",
   "nbconvert_exporter": "python",
   "pygments_lexer": "ipython3",
   "version": "3.9.7"
  }
 },
 "nbformat": 4,
 "nbformat_minor": 5
}
